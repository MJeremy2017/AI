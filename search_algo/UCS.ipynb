{
 "cells": [
  {
   "cell_type": "markdown",
   "metadata": {},
   "source": [
    "Uniform Cost Search\n",
    "---\n",
    " Each edge has a weight, and vertices are expanded according to that weight; specifically, **cheapest node first**.\n",
    " ![UCS](https://algorithmicthoughts.files.wordpress.com/2012/12/searchproblem.png?w=545&h=&zoom=2)"
   ]
  },
  {
   "cell_type": "code",
   "execution_count": 1,
   "metadata": {},
   "outputs": [],
   "source": [
    "class Graph:\n",
    "    def __init__(self):\n",
    "        self.edges = {}\n",
    "        self.weights = {}\n",
    "\n",
    "    def neighbors(self, node):\n",
    "        return self.edges[node]\n",
    "\n",
    "    def get_cost(self, from_node, to_node):\n",
    "        return self.weights[(from_node + to_node)]"
   ]
  },
  {
   "cell_type": "markdown",
   "metadata": {},
   "source": [
    "The queue becomes a PriorityQueue that takes tuples in the form of (cost, vertex), which describes the cost of moving to the next vertex."
   ]
  },
  {
   "cell_type": "code",
   "execution_count": 2,
   "metadata": {},
   "outputs": [],
   "source": [
    "from queue import PriorityQueue"
   ]
  },
  {
   "cell_type": "code",
   "execution_count": 3,
   "metadata": {},
   "outputs": [],
   "source": [
    "def ucs(graph, start, goal):\n",
    "    visited = set()\n",
    "    queue = PriorityQueue()\n",
    "    queue.put((0, start))\n",
    "\n",
    "    while queue:\n",
    "        cost, node = queue.get()  # priority queue returns the lowest value of cost\n",
    "        if node not in visited:\n",
    "            visited.add(node)\n",
    "\n",
    "            if node == goal:\n",
    "                return\n",
    "            for i in graph.neighbors(node):\n",
    "                if i not in visited:\n",
    "                    total_cost = cost + graph.get_cost(node, i)\n",
    "                    queue.put((total_cost, i))"
   ]
  },
  {
   "cell_type": "code",
   "execution_count": 7,
   "metadata": {},
   "outputs": [],
   "source": [
    "queue = PriorityQueue()\n",
    "queue.put((0, \"A\"))\n",
    "queue.put((-1, \"B\"))\n",
    "queue.put((3, \"C\"))"
   ]
  }
 ],
 "metadata": {
  "kernelspec": {
   "display_name": "Python 3",
   "language": "python",
   "name": "python3"
  },
  "language_info": {
   "codemirror_mode": {
    "name": "ipython",
    "version": 3
   },
   "file_extension": ".py",
   "mimetype": "text/x-python",
   "name": "python",
   "nbconvert_exporter": "python",
   "pygments_lexer": "ipython3",
   "version": "3.6.5"
  }
 },
 "nbformat": 4,
 "nbformat_minor": 2
}
